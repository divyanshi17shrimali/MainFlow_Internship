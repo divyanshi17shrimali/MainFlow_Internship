{
 "cells": [
  {
   "cell_type": "code",
   "execution_count": 4,
   "id": "3eea4fb1-d896-4757-a44d-f992f790e959",
   "metadata": {},
   "outputs": [
    {
     "name": "stdout",
     "output_type": "stream",
     "text": [
      "[23, 56, 'apple', 'dog', 'cat']\n",
      "[23, 56, 'apple', 'dog', 'cat', 90]\n",
      "[23, 56, 'dog', 'cat', 90]\n",
      "[23, 56, 'dog', 'cat']\n",
      "[23, 56, 'cat']\n",
      "['smile', 56, 'cat']\n"
     ]
    }
   ],
   "source": [
    "list1 = [23,56,'apple', 'dog', 'cat']   #Creates a list\n",
    "print(list1)\n",
    "list1.append(90)                  # It adds an element at the end of a list\n",
    "print(list1)\n",
    "list1.remove('apple')             # It takes one desired argument to remove from the list\n",
    "print(list1)\n",
    "list1.pop()                       # It removes the last element from the list\n",
    "print(list1)\n",
    "list1.pop(2)                      # It removes the element at index 2\n",
    "print(list1)\n",
    "list1[0] = 'smile'                # It modifies the element at 0th index in the given list\n",
    "print(list1)"
   ]
  },
  {
   "cell_type": "code",
   "execution_count": 5,
   "id": "7f14a4a1-81a4-451c-aeb5-8e2544935378",
   "metadata": {},
   "outputs": [
    {
     "name": "stdout",
     "output_type": "stream",
     "text": [
      "{'name': 'Alexa', 'id': 1, 'department': 'Information Technology'}\n",
      "{'name': 'Sharma', 'id': 2, 'department': 'Forensics'}\n",
      "{'name': 'Alexa', 'department': 'Information Technology'}\n",
      "{'name': 'Alexa', 'department': 'Information Technology', 'sector': 'Private'}\n",
      "{'name': 'Sharma', 'id': 5, 'department': 'Forensics'}\n"
     ]
    }
   ],
   "source": [
    "Employee1 = {'name':'Alexa', 'id': 1, 'department': 'Information Technology'}   # creates dictionary 1\n",
    "print(Employee1)\n",
    "Employee2 = {'name': 'Sharma', 'id': 2, 'department' : 'Forensics'}             # creates dictionary 2\n",
    "print(Employee2)\n",
    "Employee1.pop('id')     # It returns the removed element\n",
    "print(Employee1)\n",
    "Employee1['sector'] = 'Private'  # It adds a key-value pair to the dictionary 1\n",
    "print(Employee1)\n",
    "Employee2['id'] = 5          # It modifies the existing element in the dictionary\n",
    "print(Employee2)"
   ]
  },
  {
   "cell_type": "code",
   "execution_count": 6,
   "id": "bbf27b95-7fc1-41a2-8c17-c6b13263bc11",
   "metadata": {},
   "outputs": [
    {
     "name": "stdout",
     "output_type": "stream",
     "text": [
      "('apple', 'banana', 'cherry', 'grapes', 'jackfruit', 'kiwi')\n",
      "('apple', 'banana', 'grapes', 'jackfruit', 'kiwi')\n",
      "('apple', 'banana', 'grapes', 'jackfruit', 'kiwi', 'strawberry')\n",
      "('apple', 'banana', 'blueberry', 'jackfruit', 'kiwi', 'strawberry')\n"
     ]
    }
   ],
   "source": [
    "Fruits = ('apple', 'banana', 'cherry', 'grapes', 'jackfruit','kiwi')            # Set is created\n",
    "print(Fruits)\n",
    "# Tuples cannot remove, modify or add elements since they are immutable to do this a tuple needs to be converted in the list.\n",
    "Fruits1 = list(Fruits)          # List created\n",
    "Fruits1.remove('cherry')        # Element removed from the list\n",
    "Fruits = tuple(Fruits1)         # List converted back to tuple\n",
    "print(Fruits)                   # Updated tuple\n",
    "Fruits1.append('strawberry')    # Element added\n",
    "Fruits = tuple(Fruits1)          \n",
    "print(Fruits)             \n",
    "Fruits1[2] = 'blueberry'        # Modify an element\n",
    "Fruits = tuple(Fruits1)\n",
    "print(Fruits)"
   ]
  },
  {
   "cell_type": "code",
   "execution_count": null,
   "id": "06074074-dbac-4b58-b0ba-7c345374809c",
   "metadata": {},
   "outputs": [],
   "source": []
  }
 ],
 "metadata": {
  "kernelspec": {
   "display_name": "Python 3 (ipykernel)",
   "language": "python",
   "name": "python3"
  },
  "language_info": {
   "codemirror_mode": {
    "name": "ipython",
    "version": 3
   },
   "file_extension": ".py",
   "mimetype": "text/x-python",
   "name": "python",
   "nbconvert_exporter": "python",
   "pygments_lexer": "ipython3",
   "version": "3.11.7"
  }
 },
 "nbformat": 4,
 "nbformat_minor": 5
}
